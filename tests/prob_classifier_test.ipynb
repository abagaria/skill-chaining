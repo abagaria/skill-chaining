{
 "cells": [
  {
   "cell_type": "markdown",
   "metadata": {},
   "source": [
    "# Probabilistic Initiation Set Classifier"
   ]
  },
  {
   "cell_type": "markdown",
   "metadata": {},
   "source": [
    "## Imports"
   ]
  },
  {
   "cell_type": "code",
   "execution_count": 1,
   "metadata": {},
   "outputs": [],
   "source": [
    "from sklearn import svm, datasets\n",
    "from sklearn.neighbors import KernelDensity\n",
    "from sklearn.model_selection import train_test_split\n",
    "from sklearn.calibration import CalibratedClassifierCV, calibration_curve\n",
    "from sklearn.linear_model import LogisticRegressionCV as LRCV\n",
    "\n",
    "import numpy as np\n",
    "from random import *\n",
    "import matplotlib.pyplot as plt\n",
    "# import seaborn as sns\n",
    "import pandas as pd\n",
    "\n",
    "# sns.set(color_codes=True)\n",
    "%matplotlib inline"
   ]
  },
  {
   "cell_type": "markdown",
   "metadata": {},
   "source": [
    "## Utilities"
   ]
  },
  {
   "cell_type": "code",
   "execution_count": null,
   "metadata": {},
   "outputs": [],
   "source": [
    "def make_meshgrid(x, y, h=.02):\n",
    "    \"\"\"Create a mesh of points to plot in\n",
    "\n",
    "    Parameters\n",
    "    ----------\n",
    "    x: data to base x-axis meshgrid on\n",
    "    y: data to base y-axis meshgrid on\n",
    "    h: stepsize for meshgrid, optional\n",
    "\n",
    "    Returns\n",
    "    -------\n",
    "    xx, yy : ndarray\n",
    "    \"\"\"\n",
    "    x_min, x_max = x.min() - 1, x.max() + 1\n",
    "    y_min, y_max = y.min() - 1, y.max() + 1\n",
    "    xx, yy = np.meshgrid(np.arange(x_min, x_max, h),\n",
    "                         np.arange(y_min, y_max, h))\n",
    "    return xx, yy\n",
    "\n",
    "def plot_contours(ax, clf, xx, yy, **params):\n",
    "    \"\"\"Plot the decision boundaries for a classifier.\n",
    "\n",
    "    Parameters\n",
    "    ----------\n",
    "    ax: matplotlib axes object\n",
    "    clf: a classifier\n",
    "    xx: meshgrid ndarray\n",
    "    yy: meshgrid ndarray\n",
    "    params: dictionary of params to pass to contourf, optional\n",
    "    \"\"\"\n",
    "    Z = clf.predict(np.c_[xx.ravel(), yy.ravel()])\n",
    "    Z = Z.reshape(xx.shape)\n",
    "    out = ax.contourf(xx, yy, Z, **params)\n",
    "    return out\n",
    "\n",
    "def create_plots(models, titles, X, y, grid):\n",
    "    \"\"\"Creates plots of models.\n",
    "    \n",
    "        Parameters\n",
    "        ----------\n",
    "        models : tuple of models\n",
    "        titles : tuple of title names\n",
    "        X : input\n",
    "        y: class labels\n",
    "        grid : tuple of grid size \n",
    "    \"\"\"\n",
    "    \n",
    "    # Set-up grids for plotting.\n",
    "    fig, sub = plt.subplots(grid[0], grid[1])\n",
    "    plt.subplots_adjust(wspace=0.4, hspace=0.4)\n",
    "    \n",
    "    X0, X1 = X[:, 0], X[:, 1]\n",
    "    xx, yy = make_meshgrid(X0, X1)\n",
    "\n",
    "    for clf, title, ax in zip(models, titles, sub.flatten()):\n",
    "        plot_contours(ax, clf, xx, yy,\n",
    "                      cmap=plt.cm.coolwarm, alpha=0.8)\n",
    "        ax.scatter(X0, X1, c=y, cmap=plt.cm.coolwarm, s=20, edgecolors='k')\n",
    "        ax.set_xlim(xx.min(), xx.max())\n",
    "        ax.set_ylim(yy.min(), yy.max())\n",
    "        ax.set_xlabel('x-coord')\n",
    "        ax.set_ylabel('y-coord')\n",
    "        ax.set_xticks(())\n",
    "        ax.set_yticks(())\n",
    "        ax.set_title(title)\n",
    "\n",
    "    plt.show()"
   ]
  },
  {
   "cell_type": "markdown",
   "metadata": {},
   "source": [
    "## Load Data"
   ]
  },
  {
   "cell_type": "code",
   "execution_count": null,
   "metadata": {},
   "outputs": [],
   "source": [
    "X, y = datasets.make_classification(n_samples=1000, n_features=2,\n",
    "                                    n_informative=2, n_redundant=0)\n",
    "y[y==0] = -1"
   ]
  },
  {
   "cell_type": "markdown",
   "metadata": {},
   "source": [
    "## Classification"
   ]
  },
  {
   "cell_type": "code",
   "execution_count": null,
   "metadata": {},
   "outputs": [],
   "source": [
    "def opt_clf(X_, y_):\n",
    "    '''\n",
    "    Optimistic classifier that is two-class SVM \n",
    "    \n",
    "    Args:\n",
    "        X_: Input data\n",
    "        y_: Input labels\n",
    "    \n",
    "    Returns:\n",
    "        Fitted two-class linear classifier\n",
    "    '''\n",
    "    tcsvm = svm.LinearSVC(max_iter=1000)\n",
    "    \n",
    "    return tcsvm.fit(X_,y_)\n",
    "\n",
    "def pes_clf(tcsvm_, X_, y_):\n",
    "    '''\n",
    "    Pessimistic classifier that is a one-class SVM\n",
    "    \n",
    "    Args:\n",
    "    \n",
    "    Returns:\n",
    "    \n",
    "    '''\n",
    "    # Get subset of inputs that are on the (+) side of the optimistic classifier\n",
    "    y_pred = tcsvm_.predict(X_)\n",
    "    X_pos, y_pos, X_neg, y_neg = [], [], [], []\n",
    "    for i, label in enumerate(y_pred):\n",
    "        if label == 1:\n",
    "            X_pos.append(X_[i])\n",
    "            y_pos.append(y_[i])\n",
    "        else:\n",
    "            X_neg.append(X_[i])\n",
    "            y_neg.append(y_[i])\n",
    "    X_pos, y_pos, X_neg, y_neg = np.array(X_pos), np.array(y_pos), np.array(X_neg), np.array(y_neg)\n",
    "\n",
    "    # Fit one-class SVM (non-linear) from (+) subset of inputs from two-class SVM\n",
    "    ocsvm = svm.OneClassSVM(kernel=\"rbf\", nu=0.1, gamma=\"scale\")\n",
    "    \n",
    "    return ocsvm.fit(X_pos, y_pos)"
   ]
  },
  {
   "cell_type": "code",
   "execution_count": null,
   "metadata": {},
   "outputs": [],
   "source": [
    "def platt_scale(ocsvm_, X_, train_size, cv_size, outlier=False):\n",
    "    \"\"\"\n",
    "    Uses Platt Scalling to get probability values from one-class SVM\n",
    "    \n",
    "    Args:\n",
    "        clf: OneClassSVM classifier (post-fit on TCSVM (+) data)\n",
    "        X_data: data that clf was fitted on\n",
    "        y_labels: labels that cls was fitted on \n",
    "    \n",
    "    Returns:\n",
    "        \n",
    "    \"\"\"\n",
    "    \n",
    "    # 1. Get SVM predictions\n",
    "    y_SVM_pred = ocsvm_.predict(X_)\n",
    "    if outlier:\n",
    "        y_SVM_pred = y_SVM_pred * -1\n",
    "    \n",
    "    # 2. Split the data and SVM labels\n",
    "    X_train, X_test, y_train, y_test = train_test_split(X_, y_SVM_pred, train_size=train_size)\n",
    "\n",
    "    # 3. Train using logistic regression layer with cross validation \n",
    "    lr = LRCV(cv=cv_size)\n",
    "    lr.fit(X_train, y_train)\n",
    "\n",
    "    # 4. Return prediction probabilities on test data    \n",
    "    return lr.predict_proba(X_test)"
   ]
  },
  {
   "cell_type": "markdown",
   "metadata": {},
   "source": [
    "## Probabilities"
   ]
  },
  {
   "cell_type": "code",
   "execution_count": null,
   "metadata": {},
   "outputs": [],
   "source": [
    "# Call classifiers\n",
    "tcsvm = opt_clf(X, y)\n",
    "ocsvm = pes_clf(tcsvm, X, y)\n",
    "\n",
    "# Estimations for optimistic classifier\n",
    "print(\"Optimistic Classifier\")\n",
    "print(\"=====================\")\n",
    "print(\"(1a) Pr(pos sample | (+) side of TCSVM) = Pr(neg sample | (-) side of TCSVM) = {}\".format(tcsvm.score(X,y)))\n",
    "print(\"(1b) Pr(pos sample | (-) side of TCSVM) = Pr(neg sample | (+) side of TCSVM) = {}\".format(1-tcsvm.score(X,y)))\n",
    "print()\n",
    "\n",
    "# Estimations for pessimistic classifier\n",
    "prob_inlier = platt_scale(ocsvm, X, 0.90, 5)\n",
    "prob_outlier = platt_scale(ocsvm, X, 0.90, 5, outlier=True)\n",
    "\n",
    "print(\"Pessimistic Classifier\")\n",
    "print(\"======================\")\n",
    "print(\"(2a) Pr(pos sample | inside OCSVM) = {}\".format(np.average(prob_inlier[:,1])))\n",
    "print(\"(2b) Pr(neg sample | inside OCSVM) = {}\".format(np.average(prob_inlier[:,0])))\n",
    "print(\"(2c) Pr(pos sample | outside OCSVM) = {}\".format(np.average(prob_outlier[:,1])))\n",
    "print(\"(2d) Pr(neg sample | outside OCSVM) = {}\".format(np.average(prob_outlier[:,0])))\n",
    "\n",
    "print(\"Difference\")\n",
    "print(\"==========\")\n",
    "print(\"|1a - 2a| = {}\".format(abs(tcsvm.score(X,y) - np.average(prob_inlier[:,1]))))"
   ]
  },
  {
   "cell_type": "markdown",
   "metadata": {},
   "source": [
    "## Plotting"
   ]
  },
  {
   "cell_type": "code",
   "execution_count": null,
   "metadata": {},
   "outputs": [],
   "source": [
    "# Plot two classifiers\n",
    "models = (tcsvm, ocsvm)\n",
    "titles = ('LinearSVC (linear kernel)', 'OneClassSVM (rbf kernel)')\n",
    "create_plots(models, titles, X, y, grid=(2,1))"
   ]
  },
  {
   "cell_type": "code",
   "execution_count": 2,
   "metadata": {},
   "outputs": [
    {
     "data": {
      "image/png": "[encoded data removed]",
      "text/plain": [
       "<Figure size 432x288 with 1 Axes>"
      ]
     },
     "metadata": {
      "needs_background": "light"
     },
     "output_type": "display_data"
    }
   ],
   "source": [
    "# Probability plots\n",
    "all_tcsvm_prob = {}\n",
    "all_tcsvm_prob[1] = [0.9, 0.95, 0.96, 0.97]\n",
    "all_tcsvm_prob[2] = [0.5, 0.6]\n",
    "all_tcsvm_prob[3] = [0.5, 0.7, 0.9]\n",
    "\n",
    "all_ocsvm_prob = {}\n",
    "all_ocsvm_prob[1] = [0.8, 0.55, 0.46, 0.87]\n",
    "all_ocsvm_prob[2] = [0.8, 0.2]\n",
    "all_ocsvm_prob[3] = [0.6, 0.8, 0.5]\n",
    "# ocsvm_prob = [0.6, 0.5, 0.7, 0.8]\n",
    "# diff_prob = [0.3, 0.45, 0.26, 0.17]\n",
    "\n",
    "cmap = plt.get_cmap('jet_r')\n",
    "N = len(all_tcsvm_prob)\n",
    "\n",
    "for idx, tcsvm_prob in all_tcsvm_prob.items():\n",
    "    color = cmap(float(idx)/N)\n",
    "\n",
    "    plt.plot(tcsvm_prob, c=color, label=\"{} - tcsvm\".format(idx))\n",
    "    plt.plot(all_ocsvm_prob[idx], c=color, label=\"{} - ocsvm\".format(idx), linestyle='--')    \n",
    "\n",
    "# for idx, option_prob in all_ocsvm_prob.items():\n",
    "#     plt.plot(option_prob, label=\"{} - ocsvm\".format(idx), linestyle='--')\n",
    "    \n",
    "\n",
    "test1 = \"(TEST)\"\n",
    "test2 = \"TESTING\"\n",
    "\n",
    "plt.title(\"{} {}\".format(test1, test2))\n",
    "plt.ylabel(\"Probabilities\")\n",
    "plt.legend(title=\"Options\", bbox_to_anchor=(1.05, 1), loc='upper left', borderaxespad=0.)\n",
    "\n",
    "plt.show()\n",
    "\n"
   ]
  },
  {
   "cell_type": "code",
   "execution_count": null,
   "metadata": {},
   "outputs": [],
   "source": [
    "tcsvm_prob[0] = [0.9, 0.95, 0.96, 0.97, 0.6]\n",
    "tcsvm_prob"
   ]
  },
  {
   "cell_type": "code",
   "execution_count": null,
   "metadata": {},
   "outputs": [],
   "source": [
    "test = []\n",
    "if not test:\n",
    "    print(\"empty\")\n",
    "# [row[0] for row in test]"
   ]
  },
  {
   "cell_type": "code",
   "execution_count": null,
   "metadata": {},
   "outputs": [],
   "source": []
  }
 ],
 "metadata": {
  "kernelspec": {
   "display_name": "Python (skill-chaining)",
   "language": "python",
   "name": "skill-chaining"
  },
  "language_info": {
   "codemirror_mode": {
    "name": "ipython",
    "version": 3
   },
   "file_extension": ".py",
   "mimetype": "text/x-python",
   "name": "python",
   "nbconvert_exporter": "python",
   "pygments_lexer": "ipython3",
   "version": "3.6.9"
  }
 },
 "nbformat": 4,
 "nbformat_minor": 2
}
